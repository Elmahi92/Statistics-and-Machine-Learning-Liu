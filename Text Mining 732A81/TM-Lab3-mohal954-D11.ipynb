{
 "cells": [
  {
   "cell_type": "markdown",
   "metadata": {
    "pycharm": {
     "name": "#%% md\n"
    }
   },
   "source": [
    "<div class=\"alert alert-info\">\n",
    "    \n",
    "➡️ Make sure that you have read the **[rules for hand-in assignments](https://www.ida.liu.se/~TDDE16/exam.en.shtml#handins)** and the **[policy on cheating and plagiarism](https://www.ida.liu.se/~TDDE16/exam.en.shtml#cheating)** before starting with this lab.\n",
    "\n",
    "➡️ Make sure you fill in any cells (and _only_ those cells) that say **`YOUR CODE HERE`** or **YOUR ANSWER HERE**, and do _not_ modify any of the other cells.\n",
    "\n",
    "➡️ **Before you submit your lab, make sure everything runs as expected.** For this, _restart the kernel_ and _run all cells_ from top to bottom. In Jupyter Notebook version 7 or higher, you can do this via \"Run$\\rightarrow$Restart Kernel and Run All Cells...\" in the menu (or the \"⏩\" button in the toolbar).\n",
    "\n",
    "</div>"
   ]
  },
  {
   "cell_type": "markdown",
   "metadata": {
    "pycharm": {
     "name": "#%% md\n"
    }
   },
   "source": [
    "# L3: Text clustering and topic modelling"
   ]
  },
  {
   "cell_type": "markdown",
   "metadata": {
    "pycharm": {
     "name": "#%% md\n"
    }
   },
   "source": [
    "Text clustering groups documents in such a way that documents within a group are more &lsquo;similar&rsquo; to other documents in the cluster than to documents not in the cluster. The exact definition of what &lsquo;similar&rsquo; means in this context varies across applications and clustering algorithms.\n",
    "\n",
    "In this lab you will experiment with both hard and soft clustering techniques. More specifically, in the first part you will be using the $k$-means algorithm, and in the second part you will be using a topic model based on the Latent Dirichlet Allocation (LDA)."
   ]
  },
  {
   "cell_type": "code",
   "execution_count": 1,
   "metadata": {
    "deletable": false,
    "editable": false,
    "nbgrader": {
     "cell_type": "code",
     "checksum": "7807a0c189a6c7ed59c8e31b90cdded6",
     "grade": false,
     "grade_id": "cell-c4776a1666a48ddd",
     "locked": true,
     "schema_version": 3,
     "solution": false,
     "task": false
    },
    "pycharm": {
     "name": "#%%\n"
    }
   },
   "outputs": [],
   "source": [
    "# Define some helper functions that are used in this notebook\n",
    "\n",
    "%matplotlib inline\n",
    "from IPython.display import display, HTML\n",
    "from sklearn.feature_extraction.text import TfidfVectorizer\n",
    "from sklearn.cluster import KMeans\n",
    "import matplotlib.pyplot as plt\n",
    "import numpy as np\n",
    "from itertools import combinations\n",
    "\n",
    "def success():\n",
    "    display(HTML('<div class=\"alert alert-success\"><strong>Solution appears correct!</strong></div>'))"
   ]
  },
  {
   "cell_type": "markdown",
   "metadata": {
    "pycharm": {
     "name": "#%% md\n"
    }
   },
   "source": [
    "## Hard clustering data set"
   ]
  },
  {
   "cell_type": "markdown",
   "metadata": {
    "pycharm": {
     "name": "#%% md\n"
    }
   },
   "source": [
    "The raw data for the hard clustering part of this lab is a collection of product reviews. We have preprocessed the data by tokenization and lowercasing."
   ]
  },
  {
   "cell_type": "code",
   "execution_count": 2,
   "metadata": {
    "deletable": false,
    "editable": false,
    "nbgrader": {
     "cell_type": "code",
     "checksum": "007298be2cbb2c02ebe809b6a44f0f48",
     "grade": false,
     "grade_id": "cell-59c1ac1d68e6c524",
     "locked": true,
     "schema_version": 3,
     "solution": false,
     "task": false
    },
    "pycharm": {
     "name": "#%%\n"
    }
   },
   "outputs": [],
   "source": [
    "import pandas as pd\n",
    "import bz2\n",
    "\n",
    "with bz2.open('reviews.json.bz2') as source:\n",
    "    df = pd.read_json(source)"
   ]
  },
  {
   "cell_type": "markdown",
   "metadata": {
    "pycharm": {
     "name": "#%% md\n"
    }
   },
   "source": [
    "When you inspect the data frame, you can see that there are three labelled columns: `category` (the product category), `sentiment` (whether the product review was classified as &lsquo;positive&rsquo; or &lsquo;negative&rsquo; towards the product), and `text` (the space-separated text of the review)."
   ]
  },
  {
   "cell_type": "code",
   "execution_count": 3,
   "metadata": {
    "pycharm": {
     "name": "#%%\n"
    }
   },
   "outputs": [
    {
     "data": {
      "text/plain": "  category sentiment                                               text\n0    music       neg  i bought this album because i loved the title ...\n1    music       neg  i was misled and thought i was buying the enti...\n2    books       neg  i have introduced many of my ell , high school...\n3    books       pos  anything you purchase in the left behind serie...\n4      dvd       pos  i loved these movies , and i cant wiat for the...",
      "text/html": "<div>\n<style scoped>\n    .dataframe tbody tr th:only-of-type {\n        vertical-align: middle;\n    }\n\n    .dataframe tbody tr th {\n        vertical-align: top;\n    }\n\n    .dataframe thead th {\n        text-align: right;\n    }\n</style>\n<table border=\"1\" class=\"dataframe\">\n  <thead>\n    <tr style=\"text-align: right;\">\n      <th></th>\n      <th>category</th>\n      <th>sentiment</th>\n      <th>text</th>\n    </tr>\n  </thead>\n  <tbody>\n    <tr>\n      <th>0</th>\n      <td>music</td>\n      <td>neg</td>\n      <td>i bought this album because i loved the title ...</td>\n    </tr>\n    <tr>\n      <th>1</th>\n      <td>music</td>\n      <td>neg</td>\n      <td>i was misled and thought i was buying the enti...</td>\n    </tr>\n    <tr>\n      <th>2</th>\n      <td>books</td>\n      <td>neg</td>\n      <td>i have introduced many of my ell , high school...</td>\n    </tr>\n    <tr>\n      <th>3</th>\n      <td>books</td>\n      <td>pos</td>\n      <td>anything you purchase in the left behind serie...</td>\n    </tr>\n    <tr>\n      <th>4</th>\n      <td>dvd</td>\n      <td>pos</td>\n      <td>i loved these movies , and i cant wiat for the...</td>\n    </tr>\n  </tbody>\n</table>\n</div>"
     },
     "execution_count": 3,
     "metadata": {},
     "output_type": "execute_result"
    }
   ],
   "source": [
    "df.head()"
   ]
  },
  {
   "cell_type": "markdown",
   "metadata": {
    "pycharm": {
     "name": "#%% md\n"
    }
   },
   "source": [
    "## Problem 1: K-means clustering"
   ]
  },
  {
   "cell_type": "markdown",
   "metadata": {
    "pycharm": {
     "name": "#%% md\n"
    }
   },
   "source": [
    "Your first task is to cluster the product review data using a tf–idf vectorizer and a $k$-means clusterer."
   ]
  },
  {
   "cell_type": "markdown",
   "metadata": {
    "pycharm": {
     "name": "#%% md\n"
    }
   },
   "source": [
    "### Task 1.1\n",
    "\n",
    "Start by doing the vectorization. In connection with vectorization, you should also filter out standard English stop words. While you could use [spaCy](https://spacy.io/) for this task, here it suffices to use the word list implemented in [TfidfVectorizer](https://scikit-learn.org/stable/modules/generated/sklearn.feature_extraction.text.TfidfVectorizer.html).\n",
    "\n",
    "After running the following cell:\n",
    "- `vectorizer` should contain the vectorizer fitted on `df['text']`\n",
    "- `reviews` should contain the vectorized `df['text']`"
   ]
  },
  {
   "cell_type": "code",
   "execution_count": 6,
   "metadata": {
    "deletable": false,
    "nbgrader": {
     "cell_type": "code",
     "checksum": "217b844f6aadf1c8e9e02c15f8a9fc13",
     "grade": false,
     "grade_id": "cell-66e447662e958a44",
     "locked": false,
     "schema_version": 3,
     "solution": true,
     "task": false
    },
    "pycharm": {
     "name": "#%%\n"
    }
   },
   "outputs": [],
   "source": [
    "# We'll use class sklearn.feature_extraction.text.TfidfVectorizer(*, input='content', encoding='utf-8', decode_error='strict', strip_accents=None, lowercase=True, preprocessor=None, tokenizer=None, analyzer='word', stop_words=None, token_pattern='(?u)\\b\\w\\w+\\b', ngram_range=(1, 1), max_df=1.0, min_df=1, max_features=None, vocabulary=None, binary=False, dtype=<class 'numpy.float64'>, norm='l2', use_idf=True, smooth_idf=True, sublinear_tf=False)\n",
    "# Example >>> vectorizer = TfidfVectorizer()\n",
    "#  >>> X = vectorizer.fit_transform(corpus)\n",
    "# We define out stop words by setting the parameter stop_words = \"english\"\n",
    "\n",
    "vectorizer = TfidfVectorizer(stop_words=\"english\")\n",
    "reviews= vectorizer.fit_transform(df[\"text\"])\n",
    "#raise NotImplementedError()"
   ]
  },
  {
   "cell_type": "markdown",
   "metadata": {
    "pycharm": {
     "name": "#%% md\n"
    }
   },
   "source": [
    "#### 🤞 Test your code\n",
    "\n",
    "If you used the English stop word list from scikit-learn, then the resulting vocabulary should have 46,619 entries.  You can check this by running the following code cell:"
   ]
  },
  {
   "cell_type": "code",
   "execution_count": 7,
   "metadata": {
    "deletable": false,
    "editable": false,
    "nbgrader": {
     "cell_type": "code",
     "checksum": "8fa82a4915bf8f9efc24e3b73e83a61c",
     "grade": true,
     "grade_id": "cell-b57497f350b4805e",
     "locked": true,
     "points": 1,
     "schema_version": 3,
     "solution": false,
     "task": false
    },
    "pycharm": {
     "name": "#%%\n"
    }
   },
   "outputs": [
    {
     "data": {
      "text/plain": "<IPython.core.display.HTML object>",
      "text/html": "<div class=\"alert alert-success\"><strong>Solution appears correct!</strong></div>"
     },
     "metadata": {},
     "output_type": "display_data"
    }
   ],
   "source": [
    "\"\"\"Check that the vectorized text column has the right dimensions.\"\"\"\n",
    "\n",
    "assert reviews.shape == (11914, 46619), f\"Wrong dimensions: {reviews.shape}\"\n",
    "success()"
   ]
  },
  {
   "cell_type": "code",
   "execution_count": 8,
   "outputs": [
    {
     "data": {
      "text/plain": "<1x46619 sparse matrix of type '<class 'numpy.float64'>'\n\twith 57 stored elements in Compressed Sparse Row format>"
     },
     "execution_count": 8,
     "metadata": {},
     "output_type": "execute_result"
    }
   ],
   "source": [
    "reviews[0]"
   ],
   "metadata": {
    "collapsed": false,
    "pycharm": {
     "name": "#%%\n"
    }
   }
  },
  {
   "cell_type": "markdown",
   "metadata": {
    "pycharm": {
     "name": "#%% md\n"
    }
   },
   "source": [
    "### Task 1.2\n",
    "\n",
    "Next, cluster the vectorized data. Before doing so, you should read the documentation of the [KMeans](https://scikit-learn.org/stable/modules/generated/sklearn.cluster.KMeans.html) class, which is scikit-learn&rsquo;s implementation of the $k$-means algorithm. As you can see, this class has several parameters that you can tweak. For now, the only parameter that you will have to set is the number of clusters. Start with $k=3$.\n",
    "\n",
    "**Tip:** Training $k$-means models will take some time. To speed things up, you can use the `n_init` parameter to control the number of times that the clustering is re-computed with different initial values. The default value for this parameter is 10; here and in the rest of this lab, you may want to set this to a lower value, or simply to \"auto\"."
   ]
  },
  {
   "cell_type": "code",
   "execution_count": 9,
   "metadata": {
    "deletable": false,
    "nbgrader": {
     "cell_type": "code",
     "checksum": "f795b44fb710deb8ec6557222fe3186f",
     "grade": true,
     "grade_id": "cell-17f7b79dee452c3d",
     "locked": false,
     "points": 1,
     "schema_version": 3,
     "solution": true,
     "task": false
    },
    "tags": [
     "solution"
    ],
    "pycharm": {
     "name": "#%%\n"
    }
   },
   "outputs": [],
   "source": [
    "\n",
    "\n",
    "def fit_kmeans(data, n_clusters):\n",
    "    \"\"\"Fit a k-means classifier to some data.\n",
    "\n",
    "    Arguments:\n",
    "        data: The vectorized data to train the classifier on.\n",
    "        n_clusters (int): The number of clusters.\n",
    "\n",
    "    Returns:\n",
    "        The trained k-means classifier.\n",
    "    \"\"\"\n",
    "    # class sklearn.cluster.KMeans(n_clusters=8, *, init='k-means++', n_init='warn', max_iter=300, tol=0.0001, verbose=0, random_state=None, copy_x=True, algorithm='lloyd')\n",
    "    # Example >>> X = np.array([[1, 2], [1, 4], [1, 0],   [10, 2], [10, 4], [10, 0]]) >>> kmeans = KMeans(n_clusters=2, random_state=0, n_init=\"auto\").fit(X) >>> kmeans.labels_\n",
    "    X = data\n",
    "    kmeans = KMeans(n_clusters=n_clusters, random_state=0, n_init=5).fit(X)\n",
    "    return kmeans\n",
    "\n",
    "    raise NotImplementedError()"
   ]
  },
  {
   "cell_type": "markdown",
   "metadata": {
    "pycharm": {
     "name": "#%% md\n"
    }
   },
   "source": [
    "To sanity-check your clustering, create a bar plot with the number of documents per cluster."
   ]
  },
  {
   "cell_type": "code",
   "execution_count": 10,
   "metadata": {
    "deletable": false,
    "nbgrader": {
     "cell_type": "code",
     "checksum": "40b71623600900c4911b5c12c3aa597e",
     "grade": true,
     "grade_id": "cell-d54820cd63b959ee",
     "locked": false,
     "points": 1,
     "schema_version": 3,
     "solution": true,
     "task": false
    },
    "tags": [
     "solution"
    ],
    "pycharm": {
     "name": "#%%\n"
    }
   },
   "outputs": [],
   "source": [
    "\n",
    "\n",
    "def plot_cluster_size(kmeans):\n",
    "    \"\"\"Produce & display a bar plot with the number of documents per cluster.\n",
    "\n",
    "    Arguments:\n",
    "        kmeans: The trained k-means classifier.\n",
    "    \"\"\"\n",
    "    unique, counts = np.unique(kmeans.labels_, return_counts=True)\n",
    "    return plt.bar(unique, counts,color='#2E9947')\n",
    "    raise NotImplementedError()"
   ]
  },
  {
   "cell_type": "markdown",
   "metadata": {
    "pycharm": {
     "name": "#%% md\n"
    }
   },
   "source": [
    "#### 🤞 Test your code\n",
    "\n",
    "The following cell shows how your code should run.  The output of the cell should be the bar plot of the cluster sizes.  Note that sizes may vary considerable between clusters and among different random seeds, so there is no single “correct” output here!"
   ]
  },
  {
   "cell_type": "code",
   "execution_count": 11,
   "metadata": {
    "deletable": false,
    "editable": false,
    "nbgrader": {
     "cell_type": "code",
     "checksum": "be43147fbe32384e27725a250f90f8ed",
     "grade": false,
     "grade_id": "cell-d19c0d777f6bc8c2",
     "locked": true,
     "schema_version": 3,
     "solution": false,
     "task": false
    },
    "pycharm": {
     "name": "#%%\n"
    }
   },
   "outputs": [
    {
     "data": {
      "text/plain": "<BarContainer object of 3 artists>"
     },
     "execution_count": 11,
     "metadata": {},
     "output_type": "execute_result"
    },
    {
     "data": {
      "text/plain": "<Figure size 432x288 with 1 Axes>",
      "image/png": "[encoded data removed]"
     },
     "metadata": {
      "needs_background": "light"
     },
     "output_type": "display_data"
    }
   ],
   "source": [
    "kmeans = fit_kmeans(reviews, 3)\n",
    "plot_cluster_size(kmeans)"
   ]
  },
  {
   "cell_type": "markdown",
   "metadata": {
    "pycharm": {
     "name": "#%% md\n"
    }
   },
   "source": [
    "## Problem 2: Summarize clusters"
   ]
  },
  {
   "cell_type": "markdown",
   "metadata": {
    "pycharm": {
     "name": "#%% md\n"
    }
   },
   "source": [
    "Once you have a clustering, you can try to see whether it is meaningful. One useful technique in that context is to generate a **summary** for each cluster by extracting the $n$ highest-weighted terms from the centroid of each cluster. Your next task is to implement this approach.\n",
    "\n",
    "(Hint: You will need to figure out how to use the vectorizer to convert indices back into the terms they represent.)"
   ]
  },
  {
   "cell_type": "code",
   "execution_count": 12,
   "outputs": [],
   "source": [
    "import numpy as np\n",
    "\n",
    "def compute_cluster_summaries(kmeans, vectorizer, top_n):\n",
    "    \"\"\"Compute the top_n highest-weighted terms from the centroid of each cluster.\n",
    "\n",
    "    Arguments:\n",
    "        kmeans: The trained k-means classifier.\n",
    "        vectorizer: The fitted vectorizer; needed to obtain the actual terms\n",
    "                    belonging to the items in the cluster.\n",
    "        top_n: The number of terms to return for each cluster.\n",
    "\n",
    "    Returns:\n",
    "        A list of length k, where k is the number of clusters. Each item in the list\n",
    "        should be a list of length `top_n` with the highest-weighted terms from that\n",
    "        cluster. Example:\n",
    "          [[\"first\", \"foo\", ...], [\"second\", \"bar\", ...], [\"third\", \"baz\", ...]]\n",
    "    \"\"\"\n",
    "    list = []\n",
    "    for i in range(3):\n",
    "        c = kmeans.cluster_centers_[i]\n",
    "        ind = np.argpartition(c, -top_n)[-top_n:]\n",
    "        sorted_ind = np.sort(ind)[::-1]\n",
    "        voc = vectorizer.vocabulary_\n",
    "        words = [key for key, value in voc.items() if value in sorted_ind]\n",
    "        list.append(words)\n",
    "\n",
    "    return list\n"
   ],
   "metadata": {
    "collapsed": false,
    "pycharm": {
     "name": "#%%\n"
    }
   }
  },
  {
   "cell_type": "markdown",
   "metadata": {
    "tags": [
     "solution"
    ],
    "pycharm": {
     "name": "#%% md\n"
    }
   },
   "source": [
    "### 🤞 Test your code\n",
    "\n",
    "The following cell runs your code with `top_n=10`, checks that the returned lists have the expected dimensions, and prints the summaries:"
   ]
  },
  {
   "cell_type": "code",
   "execution_count": 13,
   "metadata": {
    "deletable": false,
    "editable": false,
    "nbgrader": {
     "cell_type": "code",
     "checksum": "7f7b0b2a80b8227e4232eb58af9dee4f",
     "grade": true,
     "grade_id": "cell-068cd41672d89838",
     "locked": true,
     "points": 1,
     "schema_version": 3,
     "solution": false,
     "task": false
    },
    "tags": [
     "solution"
    ],
    "pycharm": {
     "name": "#%%\n"
    }
   },
   "outputs": [
    {
     "data": {
      "text/plain": "<IPython.core.display.HTML object>",
      "text/html": "<div class=\"alert alert-success\"><strong>Solution appears correct!</strong></div>"
     },
     "metadata": {},
     "output_type": "display_data"
    },
    {
     "name": "stdout",
     "output_type": "stream",
     "text": [
      "Cluster 0: album, great, just, music, cd, book, good, like, movie, quot\n",
      "Cluster 1: great, camera, pictures, lens, use, digital, canon, quality, battery, flash\n",
      "Cluster 2: great, just, does, work, use, product, used, easy, program, software\n"
     ]
    }
   ],
   "source": [
    "summaries = compute_cluster_summaries(kmeans, vectorizer, 10)\n",
    "\n",
    "assert isinstance(summaries, list) and len(summaries) == 3, \"Return value should be a list of length 3 (the number of clusters)\"\n",
    "assert all(len(summary) == 10 for summary in summaries), \"Each list should contain exactly 10 terms\"\n",
    "assert all(isinstance(term, str) for s in summaries for term in s), \"Each list should contain strings\"\n",
    "success()\n",
    "\n",
    "for idx, terms in enumerate(summaries):\n",
    "    print(f\"Cluster {idx}: {', '.join(terms)}\")"
   ]
  },
  {
   "cell_type": "markdown",
   "metadata": {
    "pycharm": {
     "name": "#%% md\n"
    }
   },
   "source": [
    "Once you have computed the cluster summaries, take a minute to reflect on their quality. Is it clear what the reviews in a given cluster are about? Do the cluster summaries contain any unexpected terms?"
   ]
  },
  {
   "cell_type": "markdown",
   "metadata": {
    "pycharm": {
     "name": "#%% md\n"
    }
   },
   "source": [
    "## Problem 3: Compare clusterings using the Rand index"
   ]
  },
  {
   "cell_type": "markdown",
   "metadata": {
    "pycharm": {
     "name": "#%% md\n"
    }
   },
   "source": [
    "In some scenarios, you may have gold-standard class labels available for at least a subset of your documents. In these cases you can compute the **Rand index** of a clustering, and use this measure to compare the quality of different clusterings.\n",
    "\n",
    "To compute the Rand index, we view a clustering as a binary classifier on (unordered) pairs of documents. The classifier predicts &lsquo;positive&rsquo; if and only if the two documents belong to the same cluster. The (non-normalized) Rand index of the clustering is the accuracy of this classifier relative to a reference in which a document pair belongs to the &lsquo;positive&rsquo; class if and only if the two documents in the pair have the same gold-standard class label."
   ]
  },
  {
   "cell_type": "markdown",
   "metadata": {
    "pycharm": {
     "name": "#%% md\n"
    }
   },
   "source": [
    "### Task 3.1\n",
    "\n",
    "Implement a function that computes the Rand index “manually”, i.e., _without_ importing an external function from a library."
   ]
  },
  {
   "cell_type": "code",
   "execution_count": 14,
   "metadata": {
    "deletable": false,
    "nbgrader": {
     "cell_type": "code",
     "checksum": "31d1156b7fe04f427a13c7b312e6ef03",
     "grade": false,
     "grade_id": "cell-76954c34414f243d",
     "locked": false,
     "schema_version": 3,
     "solution": true,
     "task": false
    },
    "tags": [
     "solution"
    ],
    "pycharm": {
     "name": "#%%\n"
    }
   },
   "outputs": [],
   "source": [
    "\n",
    "def rand_index(pred_labels, gold_labels):\n",
    "    \"\"\"Compute the Rand index.\n",
    "\n",
    "    Arguments:\n",
    "        pred_labels: The predicted labels.\n",
    "        gold_labels: The gold-standard labels.\n",
    "\n",
    "    Returns:\n",
    "        The Rand index (a single number).\n",
    "    \"\"\"\n",
    "    # YOUR CODE HERE\n",
    "    c = list(combinations(range(len(gold_labels)), 2))\n",
    "    TP = 0\n",
    "    TN = 0\n",
    "    FP = 0\n",
    "    FN = 0\n",
    "    for i in range(len(c)):\n",
    "        true_pair = gold_labels[c[i][0]]==gold_labels[c[i][1]]\n",
    "        pred_pair = pred_labels[c[i][0]]==pred_labels[c[i][1]]\n",
    "        if true_pair==pred_pair and true_pair == True:\n",
    "            TP += 1\n",
    "        elif true_pair==pred_pair and true_pair == False:\n",
    "            TN += 1\n",
    "        elif true_pair!=pred_pair and true_pair == True:\n",
    "            FN += 1\n",
    "        elif true_pair!=pred_pair and true_pair == False:\n",
    "            FP += 1\n",
    "    rand_index = (TP+TN)/(TP+TN+FP+FN)\n",
    "    return rand_index\n",
    "    raise NotImplementedError()"
   ]
  },
  {
   "cell_type": "markdown",
   "metadata": {
    "pycharm": {
     "name": "#%% md\n"
    }
   },
   "source": [
    "#### 🤞 Test your code\n",
    "\n",
    "The following cell computes the Rand index on some “toy” examples to check if your implementation is correct:"
   ]
  },
  {
   "cell_type": "code",
   "execution_count": 15,
   "metadata": {
    "deletable": false,
    "editable": false,
    "nbgrader": {
     "cell_type": "code",
     "checksum": "4de223b4bd77bb39a629bcecb211fff6",
     "grade": true,
     "grade_id": "cell-c7bdeb650dcffdc0",
     "locked": true,
     "points": 1,
     "schema_version": 3,
     "solution": false,
     "task": false
    },
    "pycharm": {
     "name": "#%%\n"
    }
   },
   "outputs": [
    {
     "data": {
      "text/plain": "<IPython.core.display.HTML object>",
      "text/html": "<div class=\"alert alert-success\"><strong>Solution appears correct!</strong></div>"
     },
     "metadata": {},
     "output_type": "display_data"
    }
   ],
   "source": [
    "assert rand_index([0, 0, 0], [0, 1, 2]) == 0.0\n",
    "assert rand_index([1, 2, 0], [0, 1, 2]) == 1.0\n",
    "assert rand_index([1, 2, 1, 2], [0, 1, 2, 2]) == 0.5\n",
    "success()"
   ]
  },
  {
   "cell_type": "markdown",
   "metadata": {
    "pycharm": {
     "name": "#%% md\n"
    }
   },
   "source": [
    "### Task 3.2\n",
    "\n",
    "Using your implementation of the Rand index, compare the performance of different k-means clusters with $k \\in \\{1,2,3,5,7\\}$ clusters. As your evaluation data, use the first 500 documents from the original data set along with their gold-standard categories (from the `category` column).\n",
    "\n",
    "Your implementation should print the computed Rand index for each of the values for $k$."
   ]
  },
  {
   "cell_type": "code",
   "execution_count": 16,
   "metadata": {
    "deletable": false,
    "nbgrader": {
     "cell_type": "code",
     "checksum": "2f80b627a09960efb60af3b56678a802",
     "grade": true,
     "grade_id": "cell-66890753e9a48887",
     "locked": false,
     "points": 1,
     "schema_version": 3,
     "solution": true,
     "task": false
    },
    "tags": [
     "solution"
    ],
    "pycharm": {
     "name": "#%%\n"
    }
   },
   "outputs": [
    {
     "name": "stderr",
     "output_type": "stream",
     "text": [
      "C:\\Users\\MOALI72\\Anaconda3\\Lib\\site-packages\\sklearn\\cluster\\_kmeans.py:1416: FutureWarning: The default value of `n_init` will change from 10 to 'auto' in 1.4. Set the value of `n_init` explicitly to suppress the warning\n",
      "  super()._check_params_vs_input(X, default_n_init=10)\n"
     ]
    },
    {
     "name": "stdout",
     "output_type": "stream",
     "text": [
      "K =  1  Rand index =  0.16626052104208416\n",
      "K =  2  Rand index =  0.3138196392785571\n",
      "K =  3  Rand index =  0.4466452905811623\n",
      "K =  5  Rand index =  0.6833827655310621\n",
      "K =  7  Rand index =  0.7616993987975952\n"
     ]
    }
   ],
   "source": [
    "# YOUR CODE HERE\n",
    "k_set = [1,2,3,5,7]\n",
    "gold_labels = df[0:500]['category']\n",
    "for i in k_set:\n",
    "    kmeans=KMeans(n_clusters=i, random_state=0).fit(reviews)\n",
    "    clusters = kmeans.predict(reviews[0:500])\n",
    "    rand_index_new = rand_index(gold_labels, clusters)\n",
    "    print('K = ', i ,' Rand index = ',rand_index_new)\n",
    "\n",
    "#raise NotImplementedError()"
   ]
  },
  {
   "cell_type": "markdown",
   "metadata": {
    "pycharm": {
     "name": "#%% md\n"
    }
   },
   "source": [
    "Give a brief summary of your results!"
   ]
  },
  {
   "cell_type": "markdown",
   "metadata": {
    "deletable": false,
    "nbgrader": {
     "cell_type": "markdown",
     "checksum": "3fa53fcb38d0309276a8689dd70eb169",
     "grade": true,
     "grade_id": "cell-ef200b0b79192210",
     "locked": false,
     "points": 1,
     "schema_version": 3,
     "solution": true,
     "task": false
    },
    "pycharm": {
     "name": "#%% md\n"
    }
   },
   "source": [
    "YOUR ANSWER HERE:\n",
    "In general The Rand index is a measure used to evaluate the similarity between two clusterings and provides a measure of how well a clustering algorithm aligns with known class labels.\n",
    "* A Rand index close to 1 indicates high similarity between the clustering and the reference our gold-standard class.\n",
    "* A Rand index close to 0 suggests that the clustering does not agree with the reference clustering.\n",
    "\n",
    "##### In our case:\n",
    "K =  1  Rand index =  0.166 Suggest clustering does not agree with the reference clustering.\n",
    "K =  2  Rand index =  0.313 Suggest clustering does not agree with the reference clustering\n",
    "K =  3  Rand index =  0.689 Suggest high similarity between the clustering and the reference\n",
    "K =  5  Rand index =  0.683 Suggest high similarity between the clustering and the reference\n",
    "K =  7  Rand index =  0.756 Suggest high similarity between the clustering and the reference\n",
    "\n"
   ]
  },
  {
   "cell_type": "markdown",
   "metadata": {
    "pycharm": {
     "name": "#%% md\n"
    }
   },
   "source": [
    "## Problem 4: Train a topic model"
   ]
  },
  {
   "cell_type": "markdown",
   "metadata": {
    "pycharm": {
     "name": "#%% md\n"
    }
   },
   "source": [
    "### Data set"
   ]
  },
  {
   "cell_type": "markdown",
   "metadata": {
    "pycharm": {
     "name": "#%% md\n"
    }
   },
   "source": [
    "The data set for the topic modelling part of this lab is the collection of all [State of the Union](https://en.wikipedia.org/wiki/State_of_the_Union) addresses from the years 1975–2000. These speeches come as a single text file with one sentence per line. The following code cell prints the first 5 lines from the data file:"
   ]
  },
  {
   "cell_type": "code",
   "execution_count": 17,
   "metadata": {
    "deletable": false,
    "editable": false,
    "nbgrader": {
     "cell_type": "code",
     "checksum": "d5e5be2b47aae266f8df5e3f7fca032e",
     "grade": false,
     "grade_id": "cell-a711c6fabeaeae3e",
     "locked": true,
     "schema_version": 3,
     "solution": false,
     "task": false
    },
    "pycharm": {
     "name": "#%%\n"
    }
   },
   "outputs": [
    {
     "name": "stdout",
     "output_type": "stream",
     "text": [
      "mr speaker mr vice president members of the 94th congress and distinguished guests\n",
      "twenty six years ago a freshman congressman a young fellow with lots of idealism who was out to change the world stood before sam rayburn in the well of the house and solemnly swore to the same oath that all of you took yesterday an unforgettable experience and i congratulate you all\n",
      "two days later that same freshman stood at the back of this great chamber over there someplace as president truman all charged up by his single handed election victory reported as the constitution requires on the state of the union\n",
      "when the bipartisan applause stopped president truman said i am happy to report to this 81st congress that the state of the union is good our nation is better able than ever before to meet the needs of the american people and to give them their fair chance in the pursuit of happiness it is foremost among the nations of the world in the search for peace\n",
      "today that freshman member from michigan stands where mr truman stood and i must say to you that the state of the union is not good\n"
     ]
    }
   ],
   "source": [
    "from itertools import islice\n",
    "\n",
    "with open('sotu_1975_2000.txt') as source:\n",
    "    # Print the first 5 lines only\n",
    "    for line in islice(source, 5):\n",
    "        print(line.rstrip())"
   ]
  },
  {
   "cell_type": "markdown",
   "metadata": {
    "pycharm": {
     "name": "#%% md\n"
    }
   },
   "source": [
    "Take a few minutes to think about what topics you would expect in this data set."
   ]
  },
  {
   "cell_type": "markdown",
   "metadata": {
    "pycharm": {
     "name": "#%% md\n"
    }
   },
   "source": [
    "### Task 4.1\n",
    "\n",
    "Your first task on the topic modelling data is to train an LDA model. For this task you will be using [spaCy](https://spacy.io/) and the [gensim](https://radimrehurek.com/gensim/) topic modelling library.\n",
    "\n",
    "Start by preprocessing the data using spaCy.  Filter out stop words, non-alphabetic tokens, and tokens less than 3 characters in length. Store the documents as a nested list where the first level of nesting corresponds to the sentences and the second level corresponds to the tokens in each sentence."
   ]
  },
  {
   "cell_type": "code",
   "execution_count": 18,
   "outputs": [],
   "source": [
    "import spacy\n",
    "nlp = spacy.load(\"en_core_web_sm\", disable=['parser', 'ner', 'textcat'])"
   ],
   "metadata": {
    "collapsed": false,
    "pycharm": {
     "name": "#%%\n"
    }
   }
  },
  {
   "cell_type": "code",
   "execution_count": 19,
   "metadata": {
    "deletable": false,
    "nbgrader": {
     "cell_type": "code",
     "checksum": "16b4a664e4f2a13ff57f5b040448b063",
     "grade": false,
     "grade_id": "cell-201e607b610e47af",
     "locked": false,
     "schema_version": 3,
     "solution": true,
     "task": false
    },
    "pycharm": {
     "name": "#%%\n"
    }
   },
   "outputs": [],
   "source": [
    "import spacy\n",
    "nlp = spacy.load(\"en_core_web_sm\")\n",
    "\n",
    "def load_and_preprocess_documents(filename=\"sotu_1975_2000.txt\"):\n",
    "    \"\"\"Load and preprocess all documents in the given file.\n",
    "\n",
    "    The preprocessing must filter out stop words, non-alphabetic tokens,\n",
    "    and tokens less than 3 characters in length.\n",
    "\n",
    "    Returns:\n",
    "        A list of length n, where n is the number of documents.\n",
    "        Each item in the list should be a list of tokens in the given\n",
    "        document, after preprocessing.\n",
    "    \"\"\"\n",
    "    # YOUR CODE HERE\n",
    "    documents = []\n",
    "    with open(\"sotu_1975_2000.txt\") as source:\n",
    "        for line in source:\n",
    "            tokens = []\n",
    "            doc = nlp(line)\n",
    "            for token in doc:\n",
    "                if not token.is_stop and token.is_alpha and len(token) >= 3:\n",
    "                    tokens.append(token.text)\n",
    "            documents.append(tokens)\n",
    "    return documents\n",
    "    raise NotImplementedError()"
   ]
  },
  {
   "cell_type": "markdown",
   "metadata": {
    "pycharm": {
     "name": "#%% md\n"
    }
   },
   "source": [
    "#### 🤞 Test your code\n",
    "\n",
    "Test your preprocessing by running the following cell. It will output the tokens (after preprocessing) for an example document and compare them against the expected output."
   ]
  },
  {
   "cell_type": "code",
   "execution_count": 20,
   "metadata": {
    "deletable": false,
    "editable": false,
    "nbgrader": {
     "cell_type": "code",
     "checksum": "229dff2225112ff17f3aa598dd5145da",
     "grade": true,
     "grade_id": "cell-4fa26bc22c42b359",
     "locked": true,
     "points": 1,
     "schema_version": 3,
     "solution": false,
     "task": false
    },
    "pycharm": {
     "name": "#%%\n"
    }
   },
   "outputs": [
    {
     "name": "stdout",
     "output_type": "stream",
     "text": [
      "document  0 after preprocessing: speaker vice president members congress distinguished guests\n",
      "document 42 after preprocessing: reduce oil imports million barrels day end year million barrels day end\n"
     ]
    },
    {
     "data": {
      "text/plain": "<IPython.core.display.HTML object>",
      "text/html": "<div class=\"alert alert-success\"><strong>Solution appears correct!</strong></div>"
     },
     "metadata": {},
     "output_type": "display_data"
    }
   ],
   "source": [
    "documents = load_and_preprocess_documents()\n",
    "\n",
    "assert len(documents) == 2898, \"The number of documents should equal the number of lines in the input file\"\n",
    "print(f\"document  0 after preprocessing: {' '.join(documents[0])}\")\n",
    "assert \" \".join(documents[0]) == \"speaker vice president members congress distinguished guests\"\n",
    "print(f\"document 42 after preprocessing: {' '.join(documents[42])}\")\n",
    "assert \" \".join(documents[42]) == \"reduce oil imports million barrels day end year million barrels day end\", \"The output for document 42 does not appear to be correct\"\n",
    "success()"
   ]
  },
  {
   "cell_type": "markdown",
   "metadata": {
    "pycharm": {
     "name": "#%% md\n"
    }
   },
   "source": [
    "### Task 4.2\n",
    "\n",
    "Now that you have the list of documents, skim the section [Pre-process and vectorize the documents](https://radimrehurek.com/gensim/auto_examples/tutorials/run_lda.html#pre-process-and-vectorize-the-documents) of the gensim documentation to learn how to create the dictionary and the vectorized corpus representation required by gensim. _(Note that you cannot use the standard scikit-learn pipeline in this case.)_ Then, write code to train an [LdaModel](https://radimrehurek.com/gensim/models/ldamodel.html) for $k=10$ topics, and using default values for all other parameters."
   ]
  },
  {
   "cell_type": "code",
   "execution_count": 21,
   "outputs": [],
   "source": [
    "\n",
    "from gensim.models import LdaModel\n",
    "from gensim.corpora.dictionary import Dictionary\n",
    "from gensim.models import Phrases\n",
    "\n",
    "# Ref: https://radimrehurek.com/gensim/auto_examples/tutorials/run_lda.html#pre-process-and-vectorize-the-documents\n",
    "\n",
    "def train_lda_model(documents, num_topics, passes=1):\n",
    "    \"\"\"Create and train an LDA model.\n",
    "\n",
    "    Arguments:\n",
    "        documents: The preprocessed documents, as produced in Task 4.1.\n",
    "        num_topics: The number of topics to generate.\n",
    "        passes: The number of training passes. Defaults to 1; you will need\n",
    "                this later for Task 5.\n",
    "\n",
    "    Returns:\n",
    "        The trained LDA model.\n",
    "    \"\"\"\n",
    "    # Add bigrams and trigrams to docs (only ones that appear 20 times or more).\n",
    "    bigram = Phrases(documents, min_count=20)\n",
    "    for idx in range(len(documents)):\n",
    "        for token in bigram[documents[idx]]:\n",
    "            if '_' in token:\n",
    "                documents[idx].append(token)\n",
    "    # Remove rare and common tokens.\n",
    "    # Create a dictionary representation of the documents.\n",
    "    dictionary = Dictionary(documents)\n",
    "    # Filter out words that occur less than 20 documents, or more than 50% of the documents.\n",
    "    dictionary.filter_extremes(no_below=20, no_above=0.5)\n",
    "    # Bag-of-words representation of the documents.\n",
    "    corpus = [dictionary.doc2bow(doc) for doc in documents]\n",
    "    # Train LDA model.\n",
    "    # Make an index to word dictionary.\n",
    "    temp = dictionary[0] # This is only to \"load\" the dictionary.\n",
    "    id2word = dictionary.id2token\n",
    "    model = LdaModel(\n",
    "        corpus=corpus,\n",
    "        id2word=id2word,\n",
    "        num_topics=num_topics,\n",
    "        passes=passes,\n",
    "    )\n",
    "\n",
    "    return model"
   ],
   "metadata": {
    "collapsed": false,
    "pycharm": {
     "name": "#%%\n"
    }
   }
  },
  {
   "cell_type": "markdown",
   "metadata": {
    "pycharm": {
     "name": "#%% md\n"
    }
   },
   "source": [
    "#### 🤞 Test your code\n",
    "\n",
    "Run the following cell to test your code and print the topics:"
   ]
  },
  {
   "cell_type": "code",
   "execution_count": 22,
   "metadata": {
    "deletable": false,
    "editable": false,
    "nbgrader": {
     "cell_type": "code",
     "checksum": "fcf6eedb85c6fecb5c6dc7f7d441af6b",
     "grade": false,
     "grade_id": "cell-5380fd6f4446aa21",
     "locked": true,
     "schema_version": 3,
     "solution": false,
     "task": false
    },
    "pycharm": {
     "name": "#%%\n"
    }
   },
   "outputs": [
    {
     "data": {
      "text/plain": "[(0,\n  '0.020*\"world\" + 0.017*\"america\" + 0.014*\"congress\" + 0.014*\"states\" + 0.012*\"year\" + 0.012*\"united\" + 0.011*\"federal\" + 0.011*\"new\" + 0.010*\"people\" + 0.010*\"united_states\"'),\n (1,\n  '0.019*\"year\" + 0.018*\"care\" + 0.016*\"child\" + 0.014*\"world\" + 0.014*\"children\" + 0.013*\"new\" + 0.012*\"tonight\" + 0.012*\"work\" + 0.010*\"health\" + 0.009*\"america\"'),\n (2,\n  '0.032*\"government\" + 0.021*\"people\" + 0.018*\"security\" + 0.018*\"years\" + 0.017*\"social\" + 0.016*\"social_security\" + 0.013*\"budget\" + 0.012*\"american\" + 0.010*\"economic\" + 0.010*\"work\"'),\n (3,\n  '0.022*\"world\" + 0.020*\"america\" + 0.018*\"peace\" + 0.016*\"years\" + 0.015*\"crime\" + 0.015*\"new\" + 0.014*\"work\" + 0.013*\"thank\" + 0.012*\"states\" + 0.011*\"efforts\"'),\n (4,\n  '0.032*\"people\" + 0.020*\"children\" + 0.020*\"work\" + 0.018*\"new\" + 0.015*\"congress\" + 0.015*\"america\" + 0.014*\"americans\" + 0.014*\"know\" + 0.012*\"year\" + 0.011*\"american\"'),\n (5,\n  '0.016*\"help\" + 0.015*\"years\" + 0.014*\"congress\" + 0.014*\"work\" + 0.012*\"tax\" + 0.011*\"cut\" + 0.011*\"support\" + 0.011*\"way\" + 0.011*\"family\" + 0.011*\"people\"'),\n (6,\n  '0.023*\"new\" + 0.023*\"americans\" + 0.019*\"health\" + 0.016*\"people\" + 0.014*\"america\" + 0.014*\"care\" + 0.013*\"years\" + 0.012*\"jobs\" + 0.012*\"year\" + 0.012*\"insurance\"'),\n (7,\n  '0.021*\"america\" + 0.016*\"new\" + 0.014*\"american\" + 0.011*\"nuclear\" + 0.011*\"year\" + 0.010*\"weapons\" + 0.009*\"world\" + 0.009*\"people\" + 0.008*\"nation\" + 0.008*\"time\"'),\n (8,\n  '0.024*\"schools\" + 0.021*\"america\" + 0.016*\"year\" + 0.014*\"budget\" + 0.014*\"college\" + 0.012*\"new\" + 0.011*\"cuts\" + 0.011*\"years\" + 0.011*\"world\" + 0.010*\"school\"'),\n (9,\n  '0.023*\"america\" + 0.017*\"century\" + 0.015*\"let\" + 0.013*\"children\" + 0.013*\"national\" + 0.012*\"government\" + 0.012*\"years\" + 0.010*\"know\" + 0.010*\"responsibility\" + 0.010*\"year\"')]"
     },
     "execution_count": 22,
     "metadata": {},
     "output_type": "execute_result"
    }
   ],
   "source": [
    "model = train_lda_model(documents, 10)\n",
    "model.print_topics()"
   ]
  },
  {
   "cell_type": "markdown",
   "metadata": {
    "pycharm": {
     "name": "#%% md\n"
    }
   },
   "source": [
    "Inspect the topics. Can you &lsquo;label&rsquo; each topic with a short description of what it is about? Do the topics match your expectations?"
   ]
  },
  {
   "cell_type": "markdown",
   "source": [
    "The outcomes reveal the specified number of topics, set at 10 in our case. Examining the results, each topic is a cluster of terms that tend to co-occur within the documents provided to the model. The numerical values associated with each term signify their relative importance within the topic, with higher numbers indicating greater significance.\n",
    "For instance, when considering the topics, particularly the first and second terms, we encounter terms such as \"America,\" \"New,\" \"Years,\" \"World,\" \"Congress,\" and others. To me, these topics appear to be related to America, potentially involving congressional matters. Considering the dataset's description – \"State of the Union,\" an annual address by the U.S. President to Congress – the model's output aligns well. The State of the Union Address typically covers reports on the nation's budget, economy, news, agenda, progress, achievements, and the president's priorities and legislative proposals. Therefore, it is logical to observe results suggesting topics aligned with the themes mentioned."
   ],
   "metadata": {
    "collapsed": false,
    "pycharm": {
     "name": "#%% md\n"
    }
   }
  },
  {
   "cell_type": "markdown",
   "metadata": {
    "pycharm": {
     "name": "#%% md\n"
    }
   },
   "source": [
    "## Problem 5: Monitor a topic model for convergence"
   ]
  },
  {
   "cell_type": "markdown",
   "metadata": {
    "pycharm": {
     "name": "#%% md\n"
    }
   },
   "source": [
    "When learning an LDA model, it is important to make sure that the training algorithm has converged to a stable posterior distribution. One way to do so is to plot, after each training epochs (or &lsquo;pass&rsquo;, in gensim parlance) the log likelihood of the training data under the posterior. Your last task in this lab is to create such a plot and, based on this, to suggest an appropriate number of epochs.\n",
    "\n",
    "To collect information about the posterior likelihood after each pass, we need to enable the logging facilities of gensim. Once this is done, gensim will add various diagnostics to a log file `gensim.log`."
   ]
  },
  {
   "cell_type": "code",
   "execution_count": 23,
   "metadata": {
    "deletable": false,
    "editable": false,
    "nbgrader": {
     "cell_type": "code",
     "checksum": "093903f08ea645072cd835d7f07f39b5",
     "grade": false,
     "grade_id": "cell-12010ee79db96ae3",
     "locked": true,
     "schema_version": 3,
     "solution": false,
     "task": false
    },
    "pycharm": {
     "name": "#%%\n"
    }
   },
   "outputs": [],
   "source": [
    "import logging\n",
    "\n",
    "logging.basicConfig(filename='gensim.log', format='%(asctime)s:%(levelname)s:%(message)s', level=logging.INFO)\n",
    "\n",
    "def clear_logfile():\n",
    "    # To empty the log file\n",
    "    with open(\"gensim.log\", \"w\"):\n",
    "        pass"
   ]
  },
  {
   "cell_type": "markdown",
   "metadata": {
    "pycharm": {
     "name": "#%% md\n"
    }
   },
   "source": [
    "The following function will parse the generated logfile and return the list of log likelihoods."
   ]
  },
  {
   "cell_type": "code",
   "execution_count": 24,
   "metadata": {
    "deletable": false,
    "editable": false,
    "nbgrader": {
     "cell_type": "code",
     "checksum": "35ed9c5af32a1a9a3891e7c4643c55e0",
     "grade": false,
     "grade_id": "cell-0bd244fbb805ee5d",
     "locked": true,
     "schema_version": 3,
     "solution": false,
     "task": false
    },
    "pycharm": {
     "name": "#%%\n"
    }
   },
   "outputs": [],
   "source": [
    "import re\n",
    "\n",
    "def parse_logfile():\n",
    "    \"\"\"Parse gensim.log to extract the log-likelihood scores.\n",
    "\n",
    "    Returns:\n",
    "        A list of log-likelihood scores.\n",
    "    \"\"\"\n",
    "    matcher = re.compile('(-*\\d+\\.\\d+) per-word .* (\\d+\\.\\d+) perplexity')\n",
    "    likelihoods = []\n",
    "    with open('gensim.log') as source:\n",
    "        for line in source:\n",
    "            match = matcher.search(line)\n",
    "            if match:\n",
    "                likelihoods.append(float(match.group(1)))\n",
    "    return likelihoods"
   ]
  },
  {
   "cell_type": "markdown",
   "metadata": {
    "pycharm": {
     "name": "#%% md\n"
    }
   },
   "source": [
    "Here's an example how to run it — note that we call `clear_logfile()` to empty the logfile before training the model. If your code from problem 4 was correct, the result should be a list with a single log-likehoodscore, since we are doing a single training pass:"
   ]
  },
  {
   "cell_type": "code",
   "execution_count": 25,
   "metadata": {
    "pycharm": {
     "name": "#%%\n"
    }
   },
   "outputs": [
    {
     "name": "stdout",
     "output_type": "stream",
     "text": [
      "[-6.865]\n"
     ]
    }
   ],
   "source": [
    "clear_logfile()\n",
    "model = train_lda_model(documents, 10, passes=1)\n",
    "likelihoods = parse_logfile()\n",
    "print(likelihoods)"
   ]
  },
  {
   "cell_type": "markdown",
   "metadata": {
    "pycharm": {
     "name": "#%% md\n"
    }
   },
   "source": [
    "### Task 5.1\n",
    "\n",
    "Your task now is to write re-train your LDA model for 50&nbsp;passes, retrieve the list of log likelihoods, and create a plot from this data."
   ]
  },
  {
   "cell_type": "code",
   "execution_count": 26,
   "metadata": {
    "deletable": false,
    "nbgrader": {
     "cell_type": "code",
     "checksum": "19d9b6f7d4470539e80e448e546f73c8",
     "grade": true,
     "grade_id": "cell-e863fa5ab8cd3443",
     "locked": false,
     "points": 1,
     "schema_version": 3,
     "solution": true,
     "task": false
    },
    "tags": [
     "solution"
    ],
    "pycharm": {
     "name": "#%%\n"
    }
   },
   "outputs": [],
   "source": [
    "def plot_likelihoods(likelihoods):\n",
    "    \"\"\"Produce & display a plot of the log-likelihood scores during training.\n",
    "\n",
    "    Arguments:\n",
    "        likelihoods: A list of scores, as returned by `parse_logfile()`.\n",
    "    \"\"\"\n",
    "    # YOUR CODE HERE\n",
    "    return plt.plot(likelihoods,color='#2E9947')\n",
    "    raise NotImplementedError()"
   ]
  },
  {
   "cell_type": "markdown",
   "metadata": {
    "pycharm": {
     "name": "#%% md\n"
    }
   },
   "source": [
    "#### 🤞 Test your code\n",
    "\n",
    "Once you've implemented the plotting function, you can run the LDA model with 50 passes (this will take a moment) and plot the resulting scores:"
   ]
  },
  {
   "cell_type": "code",
   "execution_count": 27,
   "metadata": {
    "deletable": false,
    "editable": false,
    "nbgrader": {
     "cell_type": "code",
     "checksum": "e37e37873ac2ebb1292eb2b076d2b7d1",
     "grade": false,
     "grade_id": "cell-c7b05ddd48f08892",
     "locked": true,
     "schema_version": 3,
     "solution": false,
     "task": false
    },
    "pycharm": {
     "name": "#%%\n"
    }
   },
   "outputs": [
    {
     "data": {
      "text/plain": "[<matplotlib.lines.Line2D at 0x232e9a3a580>]"
     },
     "execution_count": 27,
     "metadata": {},
     "output_type": "execute_result"
    },
    {
     "data": {
      "text/plain": "<Figure size 432x288 with 1 Axes>",
      "image/png": "[encoded data removed]"
     },
     "metadata": {
      "needs_background": "light"
     },
     "output_type": "display_data"
    }
   ],
   "source": [
    "clear_logfile()\n",
    "model = train_lda_model(documents, 10, passes=50)\n",
    "likelihoods = parse_logfile()\n",
    "plot_likelihoods(likelihoods)"
   ]
  },
  {
   "cell_type": "markdown",
   "metadata": {
    "pycharm": {
     "name": "#%% md\n"
    }
   },
   "source": [
    "### Task 5.2\n",
    "\n",
    "How do you interpret the plot you produced in Task 5.1? Based on the plot, what would be a reasonable choice for the number of passes? Retrain your LDA model with that number and re-inspect the topics it finds."
   ]
  },
  {
   "cell_type": "code",
   "execution_count": 28,
   "metadata": {
    "deletable": false,
    "nbgrader": {
     "cell_type": "code",
     "checksum": "ca1784a4dd4357b0958b6b854d06f209",
     "grade": true,
     "grade_id": "cell-8435567308839ce2",
     "locked": false,
     "points": 1,
     "schema_version": 3,
     "solution": true,
     "task": false
    },
    "pycharm": {
     "name": "#%%\n"
    }
   },
   "outputs": [
    {
     "data": {
      "text/plain": "[(0,\n  '0.101*\"federal_government\" + 0.096*\"past_years\" + 0.084*\"long_term\" + 0.072*\"health_insurance\" + 0.068*\"economic_growth\" + 0.031*\"federal_government_federal_government\" + 0.026*\"years\" + 0.022*\"federal\" + 0.021*\"government\" + 0.019*\"economic_growth_economic_growth\"'),\n (1,\n  '0.068*\"balanced_budget\" + 0.043*\"white_house\" + 0.040*\"low_income\" + 0.031*\"children\" + 0.025*\"god_bless\" + 0.016*\"schools\" + 0.015*\"families\" + 0.015*\"budget\" + 0.015*\"year\" + 0.014*\"thank\"'),\n (2,\n  '0.035*\"america\" + 0.031*\"ask_congress\" + 0.027*\"tax_credit\" + 0.021*\"world\" + 0.021*\"new\" + 0.020*\"people\" + 0.013*\"americans\" + 0.012*\"nation\" + 0.011*\"century\" + 0.011*\"work\"'),\n (3,\n  '0.241*\"social_security\" + 0.111*\"social_security_social_security\" + 0.099*\"human_rights\" + 0.066*\"took_office\" + 0.050*\"social\" + 0.041*\"security\" + 0.028*\"human_rights_human_rights\" + 0.016*\"rights\" + 0.015*\"human\" + 0.013*\"took\"'),\n (4,\n  '0.230*\"american_people\" + 0.097*\"state_union\" + 0.085*\"vice_president\" + 0.051*\"fellow_citizens\" + 0.045*\"american_people_american_people\" + 0.031*\"people\" + 0.029*\"american\" + 0.027*\"state_union_state_union\" + 0.020*\"president\" + 0.018*\"union\"'),\n (5,\n  '0.319*\"united_states\" + 0.075*\"united_states_united_states\" + 0.062*\"men_women\" + 0.047*\"common_sense\" + 0.043*\"states\" + 0.042*\"united\" + 0.041*\"persian_gulf\" + 0.027*\"men_women_men_women\" + 0.017*\"united_states_united_states_united_states\" + 0.015*\"women\"'),\n (6,\n  '0.159*\"years_ago\" + 0.085*\"soviet_union\" + 0.071*\"cold_war\" + 0.070*\"members_congress\" + 0.053*\"interest_rates\" + 0.049*\"nuclear_weapons\" + 0.029*\"years_ago_years_ago\" + 0.023*\"nuclear\" + 0.021*\"ago\" + 0.020*\"interest_rates_interest_rates\"'),\n (7,\n  '0.098*\"health_care\" + 0.036*\"health_care_health_care\" + 0.028*\"health\" + 0.026*\"care\" + 0.023*\"state_local\" + 0.015*\"education\" + 0.014*\"congress\" + 0.013*\"programs\" + 0.012*\"year\" + 0.011*\"federal\"'),\n (8,\n  '0.037*\"middle_east\" + 0.026*\"foreign_policy\" + 0.023*\"national_security\" + 0.016*\"new\" + 0.013*\"energy\" + 0.011*\"policy\" + 0.010*\"trade\" + 0.010*\"program\" + 0.010*\"security\" + 0.010*\"national\"'),\n (9,\n  '0.078*\"private_sector\" + 0.073*\"fellow_americans\" + 0.051*\"young_people\" + 0.046*\"welfare_reform\" + 0.027*\"welfare\" + 0.021*\"work\" + 0.019*\"people\" + 0.018*\"crime\" + 0.015*\"americans\" + 0.014*\"jobs\"')]"
     },
     "execution_count": 28,
     "metadata": {},
     "output_type": "execute_result"
    }
   ],
   "source": [
    "# YOUR CODE HERE\n",
    "model = train_lda_model(documents, 10,passes=25)\n",
    "model.print_topics()\n",
    "#raise NotImplementedError()"
   ]
  },
  {
   "cell_type": "markdown",
   "metadata": {
    "pycharm": {
     "name": "#%% md\n"
    }
   },
   "source": [
    "Write a **brief** paragraph explaining how you chose the number of passes, and whether or not you consider the new topics to be &lsquo;better&rsquo; than the ones that you got from the 1-pass model in Problem&nbsp;4."
   ]
  },
  {
   "cell_type": "markdown",
   "metadata": {
    "deletable": false,
    "nbgrader": {
     "cell_type": "markdown",
     "checksum": "6b0703001a1b39ac3f3130c1d8f7a1c8",
     "grade": true,
     "grade_id": "cell-4830420c2012bd98",
     "locked": false,
     "points": 1,
     "schema_version": 3,
     "solution": true,
     "task": false
    },
    "pycharm": {
     "name": "#%% md\n"
    }
   },
   "source": [
    "The likelihood graph indicates an enhancement in likelihood as the number of passes increases. Opting for more than 10 passes notably refines our topic modeling. In the instance above, we chose 25 passes, resulting in an intriguing transformation of topics with added contextual depth. Notably, topics now encompass themes such as Human Rights, Congress Members, Soviet Union (typical USA :D), Balanced Budget, Federal Government, Social Security, Foreign Policy, Interest Rate, Health Care, and the Private Sector. These topics align with what one would expect in a typical presidential address to Congress, capturing a diverse range of significant subjects."
   ]
  },
  {
   "cell_type": "markdown",
   "id": "125ccdbd-4375-4d2f-8b1d-f47097ef2e84",
   "metadata": {
    "pycharm": {
     "name": "#%% md\n"
    }
   },
   "source": [
    "**Congratulations on finishing this lab! 👍**\n",
    "\n",
    "<div class=\"alert alert-info\">\n",
    "    \n",
    "➡️ Don't forget to **test that everything runs as expected** before you submit!\n",
    "\n",
    "</div>"
   ]
  }
 ],
 "metadata": {
  "kernelspec": {
   "display_name": "Python 3 (ipykernel)",
   "language": "python",
   "name": "python3"
  },
  "language_info": {
   "codemirror_mode": {
    "name": "ipython",
    "version": 3
   },
   "file_extension": ".py",
   "mimetype": "text/x-python",
   "name": "python",
   "nbconvert_exporter": "python",
   "pygments_lexer": "ipython3",
   "version": "3.11.5"
  }
 },
 "nbformat": 4,
 "nbformat_minor": 4
}